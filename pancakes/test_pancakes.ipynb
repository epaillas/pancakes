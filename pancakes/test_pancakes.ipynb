{
 "cells": [
  {
   "cell_type": "code",
   "execution_count": 1,
   "metadata": {},
   "outputs": [
    {
     "name": "stdout",
     "output_type": "stream",
     "text": [
      "Setting up RSD model for cross-correlation function.\n",
      "Fitting 2 density quantiles.\n",
      "fs8 = 0.47272825720543027\n",
      "bs8 = 1.2880978817158586\n",
      "s8_zeff = 0.622269508075294\n",
      "Using empirical density-velocity coupling.\n"
     ]
    }
   ],
   "source": [
    "from models.densitysplit_ccf import DensitySplitCCF\n",
    "import numpy as np\n",
    "\n",
    "xi_r_filename_i = 'example_data/Galaxies_HOD_z0.57_Real_den1.tpcf'\n",
    "xi_r_filename_j = 'example_data/Galaxies_HOD_z0.57_Real_den5.tpcf'\n",
    "xi_r_filename = f'{xi_r_filename_i}\n",
    "\n",
    "sv_rmu_filename_i = 'example_data/Galaxies_HOD_z0.57_Real_den1.std_los_velocity_vs_rmu'\n",
    "sv_rmu_filename_j = 'example_data/Galaxies_HOD_z0.57_Real_den5.std_los_velocity_vs_rmu'\n",
    "sv_rmu_filename = f'{sv_rmu_filename_i}''\n",
    "\n",
    "smin = '0'\n",
    "smax = '150'\n",
    "\n",
    "ds = DensitySplitCCF(\n",
    "    xi_r_filename=xi_r_filename,\n",
    "    sv_rmu_filename=sv_rmu_filename,\n",
    "    smin=smin,\n",
    "    smax=smax)"
   ]
  },
  {
   "cell_type": "code",
   "execution_count": 2,
   "metadata": {},
   "outputs": [
    {
     "name": "stdout",
     "output_type": "stream",
     "text": [
      "-0.9561837521335617\n"
     ]
    }
   ],
   "source": [
    "s = np.linspace(0, 150, 100)\n",
    "mu = np.linspace(-1, 1, 100)\n",
    "\n",
    "theory_xi = ds.theory_xi_smu(\n",
    "    fs8=ds.fs8,\n",
    "    bs8=ds.bs8,\n",
    "    sigma_v=360,\n",
    "    q_perp=1.0,\n",
    "    q_para=1.0,\n",
    "    s=s,\n",
    "    mu=mu,\n",
    "    denbin='den0',\n",
    "    nu=0)\n",
    "\n",
    "print(theory_xi[:,:].min())"
   ]
  },
  {
   "cell_type": "code",
   "execution_count": 3,
   "metadata": {},
   "outputs": [
    {
     "data": {
      "text/plain": [
       "array([-9.67569761e-01, -9.43781406e-01, -9.39433883e-01, -9.46607888e-01,\n",
       "       -9.57384120e-01, -9.63843275e-01, -9.58066050e-01, -9.32133142e-01,\n",
       "       -8.78615400e-01, -7.92044278e-01, -6.78078039e-01, -5.74497322e-01,\n",
       "       -4.88022382e-01, -4.14949209e-01, -3.52062549e-01, -2.98102160e-01,\n",
       "       -2.52296552e-01, -2.13874234e-01, -1.82063717e-01, -1.56093511e-01,\n",
       "       -1.35192127e-01, -1.18588073e-01, -1.05509861e-01, -9.51860010e-02,\n",
       "       -8.68450025e-02, -7.97153759e-02, -7.31516373e-02, -6.70123266e-02,\n",
       "       -6.12819895e-02, -5.59451719e-02, -5.09864195e-02, -4.63902782e-02,\n",
       "       -4.21412937e-02, -3.82240118e-02, -3.46229783e-02, -3.13227390e-02,\n",
       "       -2.83078398e-02, -2.55628263e-02, -2.30722444e-02, -2.08206399e-02,\n",
       "       -1.87925585e-02, -1.69725461e-02, -1.53451485e-02, -1.38949114e-02,\n",
       "       -1.26063806e-02, -1.14641020e-02, -1.04526213e-02, -9.55648428e-03,\n",
       "       -8.76023679e-03, -8.04842460e-03, -7.40559350e-03, -6.81847587e-03,\n",
       "       -6.28255044e-03, -5.79548254e-03, -5.35493747e-03, -4.95858057e-03,\n",
       "       -4.60407715e-03, -4.28909252e-03, -4.01129201e-03, -3.76834094e-03,\n",
       "       -3.55790463e-03, -3.37764840e-03, -3.22523755e-03, -3.09833743e-03,\n",
       "       -2.99461334e-03, -2.91173060e-03, -2.84735453e-03, -2.79915046e-03,\n",
       "       -2.76478369e-03, -2.74191956e-03, -2.72822338e-03, -2.72136046e-03,\n",
       "       -2.71899614e-03, -2.71879572e-03, -2.71842453e-03, -2.71554788e-03,\n",
       "       -2.70783110e-03, -2.69293951e-03, -2.66853842e-03, -2.63229315e-03,\n",
       "       -2.58186903e-03, -2.51493136e-03, -2.42914548e-03, -2.32217670e-03,\n",
       "       -2.19169034e-03, -2.03535171e-03, -1.85082615e-03, -1.63577896e-03,\n",
       "       -1.38787547e-03, -1.10478100e-03, -7.84160863e-04, -4.23680379e-04,\n",
       "       -2.10048701e-05,  4.26200346e-04,  9.20269949e-04,  1.46353862e-03,\n",
       "        2.05834104e-03,  2.70701189e-03,  3.41188585e-03,  4.17529760e-03])"
      ]
     },
     "execution_count": 3,
     "metadata": {},
     "output_type": "execute_result"
    }
   ],
   "source": [
    "from utilities.utilities import get_multipoles\n",
    "\n",
    "theory_xi0, theory_xi2 = get_multipoles([0, 2], s, mu,\n",
    "                                       theory_xi)\n",
    "\n",
    "theory_xi0"
   ]
  },
  {
   "cell_type": "code",
   "execution_count": 7,
   "metadata": {},
   "outputs": [
    {
     "data": {
      "image/png": "[encoded data removed]",
      "text/plain": [
       "<Figure size 324x324 with 1 Axes>"
      ]
     },
     "metadata": {
      "needs_background": "light"
     },
     "output_type": "display_data"
    }
   ],
   "source": [
    "import matplotlib.pyplot as plt\n",
    "%matplotlib inline\n",
    "\n",
    "fig, ax = plt.subplots(figsize=(4.5, 4.5))\n",
    "\n",
    "ax.plot(s, s**2*theory_xi0)\n",
    "\n",
    "ax.set_xlim(0, 150)\n",
    "plt.show()"
   ]
  }
 ],
 "metadata": {
  "kernelspec": {
   "display_name": "Python 3",
   "language": "python",
   "name": "python3"
  },
  "language_info": {
   "codemirror_mode": {
    "name": "ipython",
    "version": 3
   },
   "file_extension": ".py",
   "mimetype": "text/x-python",
   "name": "python",
   "nbconvert_exporter": "python",
   "pygments_lexer": "ipython3",
   "version": "3.8.3"
  }
 },
 "nbformat": 4,
 "nbformat_minor": 4
}
